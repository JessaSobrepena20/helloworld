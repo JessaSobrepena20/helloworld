{
  "nbformat": 4,
  "nbformat_minor": 0,
  "metadata": {
    "colab": {
      "name": "mortgage.ipynb",
      "provenance": [],
      "authorship_tag": "ABX9TyOsdpYGJjgZnLx6Yj0tf3wV",
      "include_colab_link": true
    },
    "kernelspec": {
      "name": "python3",
      "display_name": "Python 3"
    },
    "language_info": {
      "name": "python"
    }
  },
  "cells": [
    {
      "cell_type": "markdown",
      "metadata": {
        "id": "view-in-github",
        "colab_type": "text"
      },
      "source": [
        "<a href=\"https://colab.research.google.com/github/JessaSobrepena20/helloworld/blob/main/mortgage.ipynb\" target=\"_parent\"><img src=\"https://colab.research.google.com/assets/colab-badge.svg\" alt=\"Open In Colab\"/></a>"
      ]
    },
    {
      "cell_type": "code",
      "execution_count": 1,
      "metadata": {
        "id": "KfnfR1yLOTLq"
      },
      "outputs": [],
      "source": [
        "def EMI (P,r,n):\n",
        "  monthly_installment = P * (r*(1+r)**n)/((1+r)**n-1)\n",
        "  return monthly_installment"
      ]
    },
    {
      "cell_type": "code",
      "source": [
        "#solution 1\n",
        "EMI(400000,0.03/12,30*12)"
      ],
      "metadata": {
        "colab": {
          "base_uri": "https://localhost:8080/"
        },
        "id": "VqhUWvY1PBBv",
        "outputId": "e46eb607-448b-41e9-e985-120d722859c5"
      },
      "execution_count": 2,
      "outputs": [
        {
          "output_type": "execute_result",
          "data": {
            "text/plain": [
              "1686.4161349178237"
            ]
          },
          "metadata": {},
          "execution_count": 2
        }
      ]
    },
    {
      "cell_type": "code",
      "source": [
        "#solution 2\n",
        "EMI(400000,0.06/12,30*12)"
      ],
      "metadata": {
        "colab": {
          "base_uri": "https://localhost:8080/"
        },
        "id": "6xdTOTFbPEIC",
        "outputId": "671a3408-18a7-48a1-e3d8-6b4f2dd84198"
      },
      "execution_count": 3,
      "outputs": [
        {
          "output_type": "execute_result",
          "data": {
            "text/plain": [
              "2398.2021006110276"
            ]
          },
          "metadata": {},
          "execution_count": 3
        }
      ]
    }
  ]
}